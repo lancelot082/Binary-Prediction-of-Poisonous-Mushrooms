{
 "cells": [
  {
   "cell_type": "code",
   "execution_count": 1,
   "id": "53c74e72",
   "metadata": {
    "_cell_guid": "b1076dfc-b9ad-4769-8c92-a6c4dae69d19",
    "_uuid": "8f2839f25d086af736a60e9eeb907d3b93b6e0e5",
    "execution": {
     "iopub.execute_input": "2024-12-31T11:06:41.910419Z",
     "iopub.status.busy": "2024-12-31T11:06:41.910019Z",
     "iopub.status.idle": "2024-12-31T11:06:44.450065Z",
     "shell.execute_reply": "2024-12-31T11:06:44.448880Z"
    },
    "papermill": {
     "duration": 2.548897,
     "end_time": "2024-12-31T11:06:44.452523",
     "exception": false,
     "start_time": "2024-12-31T11:06:41.903626",
     "status": "completed"
    },
    "tags": []
   },
   "outputs": [],
   "source": [
    "import numpy as np # linear algebra\n",
    "import pandas as pd # data processing, CSV file I/O (e.g. pd.read_csv)\n",
    "\n",
    "import seaborn as sns\n",
    "import plotly.express as px"
   ]
  },
  {
   "cell_type": "code",
   "execution_count": 2,
   "id": "b97c83b5",
   "metadata": {
    "execution": {
     "iopub.execute_input": "2024-12-31T11:06:44.462430Z",
     "iopub.status.busy": "2024-12-31T11:06:44.461801Z",
     "iopub.status.idle": "2024-12-31T11:07:02.830873Z",
     "shell.execute_reply": "2024-12-31T11:07:02.829674Z"
    },
    "papermill": {
     "duration": 18.376061,
     "end_time": "2024-12-31T11:07:02.833090",
     "exception": false,
     "start_time": "2024-12-31T11:06:44.457029",
     "status": "completed"
    },
    "tags": []
   },
   "outputs": [],
   "source": [
    "test = pd.read_csv('/kaggle/input/playground-series-s4e8/test.csv')\n",
    "train = pd.read_csv('/kaggle/input/playground-series-s4e8/train.csv')"
   ]
  },
  {
   "cell_type": "code",
   "execution_count": 3,
   "id": "3779f268",
   "metadata": {
    "execution": {
     "iopub.execute_input": "2024-12-31T11:07:02.842419Z",
     "iopub.status.busy": "2024-12-31T11:07:02.841983Z",
     "iopub.status.idle": "2024-12-31T11:07:02.880405Z",
     "shell.execute_reply": "2024-12-31T11:07:02.878862Z"
    },
    "papermill": {
     "duration": 0.04501,
     "end_time": "2024-12-31T11:07:02.882201",
     "exception": false,
     "start_time": "2024-12-31T11:07:02.837191",
     "status": "completed"
    },
    "tags": []
   },
   "outputs": [
    {
     "data": {
      "text/html": [
       "<div>\n",
       "<style scoped>\n",
       "    .dataframe tbody tr th:only-of-type {\n",
       "        vertical-align: middle;\n",
       "    }\n",
       "\n",
       "    .dataframe tbody tr th {\n",
       "        vertical-align: top;\n",
       "    }\n",
       "\n",
       "    .dataframe thead th {\n",
       "        text-align: right;\n",
       "    }\n",
       "</style>\n",
       "<table border=\"1\" class=\"dataframe\">\n",
       "  <thead>\n",
       "    <tr style=\"text-align: right;\">\n",
       "      <th></th>\n",
       "      <th>id</th>\n",
       "      <th>class</th>\n",
       "      <th>cap-diameter</th>\n",
       "      <th>cap-shape</th>\n",
       "      <th>cap-surface</th>\n",
       "      <th>cap-color</th>\n",
       "      <th>does-bruise-or-bleed</th>\n",
       "      <th>gill-attachment</th>\n",
       "      <th>gill-spacing</th>\n",
       "      <th>gill-color</th>\n",
       "      <th>...</th>\n",
       "      <th>stem-root</th>\n",
       "      <th>stem-surface</th>\n",
       "      <th>stem-color</th>\n",
       "      <th>veil-type</th>\n",
       "      <th>veil-color</th>\n",
       "      <th>has-ring</th>\n",
       "      <th>ring-type</th>\n",
       "      <th>spore-print-color</th>\n",
       "      <th>habitat</th>\n",
       "      <th>season</th>\n",
       "    </tr>\n",
       "  </thead>\n",
       "  <tbody>\n",
       "    <tr>\n",
       "      <th>0</th>\n",
       "      <td>0</td>\n",
       "      <td>e</td>\n",
       "      <td>8.80</td>\n",
       "      <td>f</td>\n",
       "      <td>s</td>\n",
       "      <td>u</td>\n",
       "      <td>f</td>\n",
       "      <td>a</td>\n",
       "      <td>c</td>\n",
       "      <td>w</td>\n",
       "      <td>...</td>\n",
       "      <td>NaN</td>\n",
       "      <td>NaN</td>\n",
       "      <td>w</td>\n",
       "      <td>NaN</td>\n",
       "      <td>NaN</td>\n",
       "      <td>f</td>\n",
       "      <td>f</td>\n",
       "      <td>NaN</td>\n",
       "      <td>d</td>\n",
       "      <td>a</td>\n",
       "    </tr>\n",
       "    <tr>\n",
       "      <th>1</th>\n",
       "      <td>1</td>\n",
       "      <td>p</td>\n",
       "      <td>4.51</td>\n",
       "      <td>x</td>\n",
       "      <td>h</td>\n",
       "      <td>o</td>\n",
       "      <td>f</td>\n",
       "      <td>a</td>\n",
       "      <td>c</td>\n",
       "      <td>n</td>\n",
       "      <td>...</td>\n",
       "      <td>NaN</td>\n",
       "      <td>y</td>\n",
       "      <td>o</td>\n",
       "      <td>NaN</td>\n",
       "      <td>NaN</td>\n",
       "      <td>t</td>\n",
       "      <td>z</td>\n",
       "      <td>NaN</td>\n",
       "      <td>d</td>\n",
       "      <td>w</td>\n",
       "    </tr>\n",
       "    <tr>\n",
       "      <th>2</th>\n",
       "      <td>2</td>\n",
       "      <td>e</td>\n",
       "      <td>6.94</td>\n",
       "      <td>f</td>\n",
       "      <td>s</td>\n",
       "      <td>b</td>\n",
       "      <td>f</td>\n",
       "      <td>x</td>\n",
       "      <td>c</td>\n",
       "      <td>w</td>\n",
       "      <td>...</td>\n",
       "      <td>NaN</td>\n",
       "      <td>s</td>\n",
       "      <td>n</td>\n",
       "      <td>NaN</td>\n",
       "      <td>NaN</td>\n",
       "      <td>f</td>\n",
       "      <td>f</td>\n",
       "      <td>NaN</td>\n",
       "      <td>l</td>\n",
       "      <td>w</td>\n",
       "    </tr>\n",
       "    <tr>\n",
       "      <th>3</th>\n",
       "      <td>3</td>\n",
       "      <td>e</td>\n",
       "      <td>3.88</td>\n",
       "      <td>f</td>\n",
       "      <td>y</td>\n",
       "      <td>g</td>\n",
       "      <td>f</td>\n",
       "      <td>s</td>\n",
       "      <td>NaN</td>\n",
       "      <td>g</td>\n",
       "      <td>...</td>\n",
       "      <td>NaN</td>\n",
       "      <td>NaN</td>\n",
       "      <td>w</td>\n",
       "      <td>NaN</td>\n",
       "      <td>NaN</td>\n",
       "      <td>f</td>\n",
       "      <td>f</td>\n",
       "      <td>NaN</td>\n",
       "      <td>d</td>\n",
       "      <td>u</td>\n",
       "    </tr>\n",
       "    <tr>\n",
       "      <th>4</th>\n",
       "      <td>4</td>\n",
       "      <td>e</td>\n",
       "      <td>5.85</td>\n",
       "      <td>x</td>\n",
       "      <td>l</td>\n",
       "      <td>w</td>\n",
       "      <td>f</td>\n",
       "      <td>d</td>\n",
       "      <td>NaN</td>\n",
       "      <td>w</td>\n",
       "      <td>...</td>\n",
       "      <td>NaN</td>\n",
       "      <td>NaN</td>\n",
       "      <td>w</td>\n",
       "      <td>NaN</td>\n",
       "      <td>NaN</td>\n",
       "      <td>f</td>\n",
       "      <td>f</td>\n",
       "      <td>NaN</td>\n",
       "      <td>g</td>\n",
       "      <td>a</td>\n",
       "    </tr>\n",
       "  </tbody>\n",
       "</table>\n",
       "<p>5 rows × 22 columns</p>\n",
       "</div>"
      ],
      "text/plain": [
       "   id class  cap-diameter cap-shape cap-surface cap-color  \\\n",
       "0   0     e          8.80         f           s         u   \n",
       "1   1     p          4.51         x           h         o   \n",
       "2   2     e          6.94         f           s         b   \n",
       "3   3     e          3.88         f           y         g   \n",
       "4   4     e          5.85         x           l         w   \n",
       "\n",
       "  does-bruise-or-bleed gill-attachment gill-spacing gill-color  ...  \\\n",
       "0                    f               a            c          w  ...   \n",
       "1                    f               a            c          n  ...   \n",
       "2                    f               x            c          w  ...   \n",
       "3                    f               s          NaN          g  ...   \n",
       "4                    f               d          NaN          w  ...   \n",
       "\n",
       "   stem-root  stem-surface stem-color veil-type veil-color has-ring ring-type  \\\n",
       "0        NaN           NaN          w       NaN        NaN        f         f   \n",
       "1        NaN             y          o       NaN        NaN        t         z   \n",
       "2        NaN             s          n       NaN        NaN        f         f   \n",
       "3        NaN           NaN          w       NaN        NaN        f         f   \n",
       "4        NaN           NaN          w       NaN        NaN        f         f   \n",
       "\n",
       "  spore-print-color habitat season  \n",
       "0               NaN       d      a  \n",
       "1               NaN       d      w  \n",
       "2               NaN       l      w  \n",
       "3               NaN       d      u  \n",
       "4               NaN       g      a  \n",
       "\n",
       "[5 rows x 22 columns]"
      ]
     },
     "execution_count": 3,
     "metadata": {},
     "output_type": "execute_result"
    }
   ],
   "source": [
    "train.head()"
   ]
  },
  {
   "cell_type": "code",
   "execution_count": 4,
   "id": "d5f4165d",
   "metadata": {
    "execution": {
     "iopub.execute_input": "2024-12-31T11:07:02.892194Z",
     "iopub.status.busy": "2024-12-31T11:07:02.891851Z",
     "iopub.status.idle": "2024-12-31T11:07:02.917095Z",
     "shell.execute_reply": "2024-12-31T11:07:02.915665Z"
    },
    "papermill": {
     "duration": 0.032552,
     "end_time": "2024-12-31T11:07:02.918923",
     "exception": false,
     "start_time": "2024-12-31T11:07:02.886371",
     "status": "completed"
    },
    "tags": []
   },
   "outputs": [
    {
     "name": "stdout",
     "output_type": "stream",
     "text": [
      "<class 'pandas.core.frame.DataFrame'>\n",
      "RangeIndex: 3116945 entries, 0 to 3116944\n",
      "Data columns (total 22 columns):\n",
      " #   Column                Dtype  \n",
      "---  ------                -----  \n",
      " 0   id                    int64  \n",
      " 1   class                 object \n",
      " 2   cap-diameter          float64\n",
      " 3   cap-shape             object \n",
      " 4   cap-surface           object \n",
      " 5   cap-color             object \n",
      " 6   does-bruise-or-bleed  object \n",
      " 7   gill-attachment       object \n",
      " 8   gill-spacing          object \n",
      " 9   gill-color            object \n",
      " 10  stem-height           float64\n",
      " 11  stem-width            float64\n",
      " 12  stem-root             object \n",
      " 13  stem-surface          object \n",
      " 14  stem-color            object \n",
      " 15  veil-type             object \n",
      " 16  veil-color            object \n",
      " 17  has-ring              object \n",
      " 18  ring-type             object \n",
      " 19  spore-print-color     object \n",
      " 20  habitat               object \n",
      " 21  season                object \n",
      "dtypes: float64(3), int64(1), object(18)\n",
      "memory usage: 523.2+ MB\n"
     ]
    }
   ],
   "source": [
    "train.info()"
   ]
  },
  {
   "cell_type": "code",
   "execution_count": 5,
   "id": "63ae3c26",
   "metadata": {
    "execution": {
     "iopub.execute_input": "2024-12-31T11:07:02.929333Z",
     "iopub.status.busy": "2024-12-31T11:07:02.928937Z",
     "iopub.status.idle": "2024-12-31T11:07:04.403196Z",
     "shell.execute_reply": "2024-12-31T11:07:04.401612Z"
    },
    "papermill": {
     "duration": 1.481971,
     "end_time": "2024-12-31T11:07:04.405628",
     "exception": false,
     "start_time": "2024-12-31T11:07:02.923657",
     "status": "completed"
    },
    "tags": []
   },
   "outputs": [
    {
     "name": "stdout",
     "output_type": "stream",
     "text": [
      "id : [      0       1       2 ... 3116942 3116943 3116944]\n",
      "\n",
      "class : ['e' 'p']\n",
      "\n",
      "cap-diameter : [ 8.8   4.51  6.94 ... 38.11 55.63 54.07]\n",
      "\n",
      "cap-shape : ['f' 'x' 'p' 'b' 'o' 'c' 's' 'd' 'e' 'n' nan 'w' 'k' 'l' '19.29' '5 f' 't'\n",
      " 'g' 'z' 'a' '2.85' '7 x' 'r' 'u' '3.55' 'is s' 'y' '4.22' '3.6' '21.56'\n",
      " 'i' '6 x' '24.16' '8' 'm' 'ring-type' '10.13' 'is p' '7.43' 'h' '0.82'\n",
      " '10.46' '2.77' '2.94' '12.62' '5.15' '19.04' '4.97' '49.21' 'b f' '9.13'\n",
      " '1.66' '3.37' '7.21' '3.25' '11.12' '3 x' '4.3' '7.41' '6.21' '8.29'\n",
      " '54.78' '20.25' '3.52' '3.04' '2.63' '3.91' '6.44' '8.3' '7.6' '17.44'\n",
      " '4.33' '2.82' '6.53' '19.06']\n",
      "\n",
      "cap-surface : ['s' 'h' 'y' 'l' 't' 'e' 'g' nan 'd' 'i' 'w' 'k' '15.94' 'f' 'n' 'r' 'o'\n",
      " 'a' 'u' 'z' '2.7' 'does l' '5.07' 'p' 'b' 'm' 'cap-diameter' '1.43' 'x'\n",
      " '7.14' 'c' 'is h' 'does t' '0.85' '6.57' '12.79' '6.45' '4.66' '23.18'\n",
      " '3.06' '16.39' '4.21' 'veil-color' '11.78' '8.1' 'has-ring' 'does h'\n",
      " '1.42' 'class' 'has h' 'does None' '10.83' 'season' '8.96' '14.04' '5.73'\n",
      " 'is None' '24.38' '2.81' '0.88' '2.11' '2.79' 'ring-type'\n",
      " 'does-bruise-or-bleed' '4.93' 'spore-print-color' 'spore-color' '2.92'\n",
      " '2.51' '7.99' 'is y' '3.64' '3.33' '41.91' '12.2' '8.01' '9.22' '1.14'\n",
      " '6.49' '10.34' '10.1' '1.08' 'is k' '0.87']\n",
      "\n",
      "cap-color : ['u' 'o' 'b' 'g' 'w' 'n' 'e' 'y' 'r' 'p' 'k' 'l' 'i' 'h' 'd' 's' 'a' 'f'\n",
      " '2.05' 'season' 'c' 'x' '13' '7.72' 'm' 'z' '6.76' '7.15' 't' 'ring-type'\n",
      " nan 'class' '12.89' '8.83' '24.75' '22.38' '1.51' '10.1' '17.94' '3.57'\n",
      " 'does n' '4.89' '6.2' '21.53' '6.41' '4.98' '3.95' 'does-bruise-or-bleed'\n",
      " '6.59' '5.25' 'veil-color' '6.9' '5.41' '11.13' '3.11' '2.57' '17.93'\n",
      " '2.7' '8.57' '11.92' '3.08' '2.82' '4.24' '17.19' '3.34' '7' '2.9' '6.36'\n",
      " '5.91' '10.56' '26.89' '4. n' '20.62' 'stem-surface' '20.02' '20' '25.98'\n",
      " '8.67' '9.02']\n",
      "\n",
      "does-bruise-or-bleed : ['f' 't' 'd' 'has-ring' 'w' 'o' 'b' 'x' 'p' nan 'g' 'y' 'r' 'a' 'l' 'i'\n",
      " 'c' 'n' 'z' 's' 'k' 'h' '3.43' 'e' '4.42' '2.9' 'u']\n",
      "\n",
      "gill-attachment : ['a' 'x' 's' 'd' 'e' nan 'f' 'p' 'l' 'm' 'b' '32.54' 'n' 'g' 'i' 'u'\n",
      " 'does-bruise-or-bleed' 't' 'o' 'c' 'w' '4.64' 'k' 'r' '4.77' 'h' 'p p'\n",
      " '7.92' 'z' 'season' 'y' '8.79' 'does None' 'has f' 'ring-type' '16.33'\n",
      " '10.85' '20.07' '2.82' '7.86' '3.91' 'does' '10.23' '6.74' '0.92' '3.45'\n",
      " '1' 'is a' '3.71' '50.44' '11.62' 'has d' '1.32' '8.47' '6.11' '2.41'\n",
      " '2.54' '6.32' '19.65' '15.49' '4.01' '8.37' 'does f' '28.7' '13.15'\n",
      " '1.37' '28.15' '7.09' '9.88' '2.67' '18.21' '1.48' '5.93' '1.51' '16.27'\n",
      " '11.26' '2.79' 'is f' '13.94']\n",
      "\n",
      "gill-spacing : ['c' nan 'd' 'f' 'x' 'b' 'a' '3.61' '2.69' 'k' '4.8' 'e' 'y' 'class' 's'\n",
      " '9.01' 'p' '3.92' '5.22' '6.67' '4.04' 't' '0.73' 'i' '3.57' '24.38' 'w'\n",
      " 'h' 'cap-surface' 'l' '1' '12.27' '5.42' 'r' '1.6' 'n' 'g' '0' '3.81'\n",
      " '4.09' '1.36' '3.24' '5.55' '5.7' '3.62' 'does f' '6.4' '1.88' '55.13']\n",
      "\n",
      "gill-color : ['w' 'n' 'g' 'k' 'y' 'f' 'p' 'o' 'b' 'u' 'e' 'r' 'd' 't' '3.45' 'z' '5'\n",
      " '3.39' 'season' 'h' 'x' 's' '4' 'class' 'c' 'm' 'spacing' '0.92' nan\n",
      " '18.12' 'l' 'does w' 'a' '7.59' '8.06' '6.19' 'has-ring' '4.49' '9.46'\n",
      " '5.01' 'ring-type' '3.4' 'i' '17' '10.07' 'stem-root' '20.6'\n",
      " 'spore-print-color' '18.03' 'does-bruise-or-bleed' '8.83' 'habitat'\n",
      " '10.21' '4.64' '6.4' 'is y' 'e y' '1.91' 'does n' '16.41' '6.41'\n",
      " 'veil-type' '20.44' '8.37']\n",
      "\n",
      "stem-height : [ 4.51  4.79  6.85 ... 26.09 47.33 26.53]\n",
      "\n",
      "stem-width : [15.39  6.48  9.93 ... 66.91 79.92 53.44]\n",
      "\n",
      "stem-root : [nan 'b' 'c' 'r' 's' 'f' '5.59' '2.77' '20.01' 'y' 'o' 'k' 'd' 'n' 'w' 'u'\n",
      " 'p' 'x' 'i' '10.87' 'a' '3.63' 't' 'm' 'l' 'h' 'g' '16.88' '15.69' '1.48'\n",
      " '3.23' 'e' '20.0' '18.06' 'z' 'spore-print-color' '3.49' '13.03' '7.15']\n",
      "\n",
      "stem-surface : [nan 'y' 's' 't' 'g' 'h' 'k' 'i' 'f' 'l' 'd' 'x' '12.04' 'w' 'a' 'o' 'c'\n",
      " 'n' 'm' 'e' 'p' 'z' '6.58' '4.34' 'b' '3.89' 'r' '25.83' '1.59' '0.0'\n",
      " '5.97' '5.81' 'u' 'season' '10.48' '3.68' '5.56' '4.41' '5.48' '5.51'\n",
      " 'class' 'has-ring' '13.1' '17.46' '5.35' '7.23' 'does None' '1.03'\n",
      " 'does s' '7.45' 'has h' 'does-bruise-or-bleed' '1.94' '49.46' '19.35'\n",
      " '2.68' '4.74' 'spore-print-color' '10.93' '24.12' '13.94']\n",
      "\n",
      "stem-color : ['w' 'o' 'n' 'y' 'e' 'u' 'p' 'f' 'g' 'r' 'k' 'l' 'b' '3.13' 't' 'z' 'a'\n",
      " 'h' 'd' nan 's' '7.33' 'is n' 'i' 'c' 'x' 'e n' '1.75' 'm' '33.52'\n",
      " 'ring-type' '2.78' 'spore-print-color' '23.59' '8.32' 'is w' '26.4'\n",
      " '4.75' '7.84' 'class' '2.75' '8.49' '4.49' '1.41' '17.45' '3.53' '12.92'\n",
      " '3.98' '20.07' '7.7' '22.6' '6.31' '6.09' '3.56' '3.37' '4.62' '2.54'\n",
      " '39.51' '18.06' '4.33']\n",
      "\n",
      "veil-type : [nan 'u' 'd' 'a' 'h' '21.11' 'g' 'c' 'e' 'y' 'i' 'f' 'is None' 't' 'w' 'p'\n",
      " 'b' 's' 'k' 'r' 'l' 'n' '5.94']\n",
      "\n",
      "veil-color : [nan 'n' 'w' 'k' 'y' 'e' 'u' 'p' 'd' 'g' 'r' 'h' 's' '8.25' 't' 'c' 'o'\n",
      " 'i' '2.49' 'f' 'a' 'b' 'l' 'z' '3.32']\n",
      "\n",
      "has-ring : ['f' 't' 'h' 'r' 'y' 'c' 'e' 'g' 'l' 's' nan 'p' 'x' 'k' 'z' 'f has-ring'\n",
      " 'd' 'o' 'n' 'm' 'i' '10.3' 'w' 'a']\n",
      "\n",
      "ring-type : ['f' 'z' 'e' nan 'p' 'l' 'g' 'r' 'm' 'y' 'h' 'o' 't' 'ring-type' 'a' 'd'\n",
      " 's' 'x' '4' 'b' '15' 'u' 'n' 'w' 'does f' '3.12' 'i' 'season' 'k' 'c'\n",
      " 'does-bruise-or-bleed' '11' '23.6' '1' '14' '2' 'spore-print-color'\n",
      " 'class' 'sp' '2.87' '8.25']\n",
      "\n",
      "spore-print-color : [nan 'k' 'w' 'p' 'n' 'r' 'u' 'g' 't' 'f' 'd' 'l' 'y' 'a' 's' '2.49' 'e'\n",
      " 'o' 'c' 'b' '10 None' 'h' 'x' '9 None' 'i' 'm' 'veil-color' 'class'\n",
      " '2.62' 'season' '9.55' '6.36' '4.58']\n",
      "\n",
      "habitat : ['d' 'l' 'g' 'h' 'p' 'm' 'u' 'w' 'y' nan 'n' 'a' 's' 'k' 'habitat' 'z'\n",
      " '8.09' '17.1' 'b' 't' 'c' '9.28' 'ring-type' 'e' 'r'\n",
      " 'does-bruise-or-bleed' 'f' 'is w' 'o' '2.94' 'x' '4' 'is h' '5.56'\n",
      " 'class' 'i' '10.07' '7.31' '5.62' 'spore-print-color' 'cap-diameter'\n",
      " '3.11' '16.46' '7.37' 'veil-type' '17.38' '1.66' '6.63' '18.35' '6.75'\n",
      " '2.44' '3.68' '2.25']\n",
      "\n",
      "season : ['a' 'w' 'u' 's']\n"
     ]
    }
   ],
   "source": [
    "print(\"\\n\\n\".join([f'{col} : {train[col].unique()}' for col in train.columns]))"
   ]
  },
  {
   "cell_type": "code",
   "execution_count": 6,
   "id": "6b6255e2",
   "metadata": {
    "execution": {
     "iopub.execute_input": "2024-12-31T11:07:04.416336Z",
     "iopub.status.busy": "2024-12-31T11:07:04.415875Z",
     "iopub.status.idle": "2024-12-31T11:07:09.024413Z",
     "shell.execute_reply": "2024-12-31T11:07:09.023320Z"
    },
    "papermill": {
     "duration": 4.615821,
     "end_time": "2024-12-31T11:07:09.026236",
     "exception": false,
     "start_time": "2024-12-31T11:07:04.410415",
     "status": "completed"
    },
    "tags": []
   },
   "outputs": [
    {
     "data": {
      "text/plain": [
       "['id : 0 : 0.00%',\n",
       " 'class : 0 : 0.00%',\n",
       " 'cap-diameter : 4 : 0.00%',\n",
       " 'cap-shape : 40 : 0.00%',\n",
       " 'cap-surface : 671023 : 21.53%',\n",
       " 'cap-color : 12 : 0.00%',\n",
       " 'does-bruise-or-bleed : 8 : 0.00%',\n",
       " 'gill-attachment : 523936 : 16.81%',\n",
       " 'gill-spacing : 1258435 : 40.37%',\n",
       " 'gill-color : 57 : 0.00%',\n",
       " 'stem-height : 0 : 0.00%',\n",
       " 'stem-width : 0 : 0.00%',\n",
       " 'stem-root : 2757023 : 88.45%',\n",
       " 'stem-surface : 1980861 : 63.55%',\n",
       " 'stem-color : 38 : 0.00%',\n",
       " 'veil-type : 2957493 : 94.88%',\n",
       " 'veil-color : 2740947 : 87.94%',\n",
       " 'has-ring : 24 : 0.00%',\n",
       " 'ring-type : 128880 : 4.13%',\n",
       " 'spore-print-color : 2849682 : 91.43%',\n",
       " 'habitat : 45 : 0.00%',\n",
       " 'season : 0 : 0.00%']"
      ]
     },
     "execution_count": 6,
     "metadata": {},
     "output_type": "execute_result"
    }
   ],
   "source": [
    "# Проверка пропусков в %\n",
    "[f'{col} : {train[col].isna().sum()} : {train[col].isna().sum() / train.shape[0]:.2%}' for col in train.columns]"
   ]
  },
  {
   "cell_type": "code",
   "execution_count": 7,
   "id": "c7ab344d",
   "metadata": {
    "execution": {
     "iopub.execute_input": "2024-12-31T11:07:09.038868Z",
     "iopub.status.busy": "2024-12-31T11:07:09.038496Z",
     "iopub.status.idle": "2024-12-31T11:07:09.196266Z",
     "shell.execute_reply": "2024-12-31T11:07:09.195099Z"
    },
    "papermill": {
     "duration": 0.165878,
     "end_time": "2024-12-31T11:07:09.198375",
     "exception": false,
     "start_time": "2024-12-31T11:07:09.032497",
     "status": "completed"
    },
    "tags": []
   },
   "outputs": [
    {
     "data": {
      "text/plain": [
       "class\n",
       "p    54.713702\n",
       "e    45.286298\n",
       "Name: proportion, dtype: float64"
      ]
     },
     "execution_count": 7,
     "metadata": {},
     "output_type": "execute_result"
    }
   ],
   "source": [
    "# распределение целевой переменной в %\n",
    "distribution = train['class'].value_counts(normalize=True) * 100\n",
    "\n",
    "# Вывод процентного распределения\n",
    "distribution"
   ]
  },
  {
   "cell_type": "code",
   "execution_count": 8,
   "id": "a5616fd7",
   "metadata": {
    "execution": {
     "iopub.execute_input": "2024-12-31T11:07:09.209713Z",
     "iopub.status.busy": "2024-12-31T11:07:09.209287Z",
     "iopub.status.idle": "2024-12-31T11:07:09.215038Z",
     "shell.execute_reply": "2024-12-31T11:07:09.213847Z"
    },
    "papermill": {
     "duration": 0.013501,
     "end_time": "2024-12-31T11:07:09.217038",
     "exception": false,
     "start_time": "2024-12-31T11:07:09.203537",
     "status": "completed"
    },
    "tags": []
   },
   "outputs": [],
   "source": [
    "def prepare_data(train):\n",
    "    \n",
    "    # Удаление шумов\n",
    "    for col in train.select_dtypes(include = 'object').columns:\n",
    "        train[col] = train[col].apply(\n",
    "            lambda x: x if isinstance(x, str) and x.isalpha() and len(x) == 1 else np.nan)\n",
    "\n",
    "    # Удаление признаков с пропусками более 80%\n",
    "    train = train.drop(['spore-print-color', 'veil-color', 'veil-type', 'stem-root', 'id'], axis = 1)\n",
    "\n",
    "    return train"
   ]
  },
  {
   "cell_type": "code",
   "execution_count": 9,
   "id": "0be54490",
   "metadata": {
    "execution": {
     "iopub.execute_input": "2024-12-31T11:07:09.228009Z",
     "iopub.status.busy": "2024-12-31T11:07:09.227561Z",
     "iopub.status.idle": "2024-12-31T11:07:24.371226Z",
     "shell.execute_reply": "2024-12-31T11:07:24.369971Z"
    },
    "papermill": {
     "duration": 15.151417,
     "end_time": "2024-12-31T11:07:24.373421",
     "exception": false,
     "start_time": "2024-12-31T11:07:09.222004",
     "status": "completed"
    },
    "tags": []
   },
   "outputs": [],
   "source": [
    "# Подготовка данных\n",
    "train_data = prepare_data(train)"
   ]
  },
  {
   "cell_type": "code",
   "execution_count": 10,
   "id": "62c5fbc4",
   "metadata": {
    "execution": {
     "iopub.execute_input": "2024-12-31T11:07:24.384225Z",
     "iopub.status.busy": "2024-12-31T11:07:24.383764Z",
     "iopub.status.idle": "2024-12-31T11:07:27.780164Z",
     "shell.execute_reply": "2024-12-31T11:07:27.778721Z"
    },
    "papermill": {
     "duration": 3.40433,
     "end_time": "2024-12-31T11:07:27.782467",
     "exception": false,
     "start_time": "2024-12-31T11:07:24.378137",
     "status": "completed"
    },
    "tags": []
   },
   "outputs": [],
   "source": [
    "categorical_features = train_data.select_dtypes(include = ['object']).drop(['class'], axis = 1).columns\n",
    "numerical_features = train_data.select_dtypes(include=['number']).columns\n",
    "\n",
    "\n",
    "y = train_data['class']\n",
    "X = train_data.drop(['class'], axis = 1)"
   ]
  },
  {
   "cell_type": "code",
   "execution_count": 11,
   "id": "8062f71d",
   "metadata": {
    "execution": {
     "iopub.execute_input": "2024-12-31T11:07:27.793594Z",
     "iopub.status.busy": "2024-12-31T11:07:27.793138Z",
     "iopub.status.idle": "2024-12-31T11:15:53.897355Z",
     "shell.execute_reply": "2024-12-31T11:15:53.895999Z"
    },
    "papermill": {
     "duration": 506.115081,
     "end_time": "2024-12-31T11:15:53.902405",
     "exception": false,
     "start_time": "2024-12-31T11:07:27.787324",
     "status": "completed"
    },
    "tags": []
   },
   "outputs": [
    {
     "name": "stderr",
     "output_type": "stream",
     "text": [
      "/usr/local/lib/python3.10/dist-packages/sklearn/preprocessing/_encoders.py:868: FutureWarning: `sparse` was renamed to `sparse_output` in version 1.2 and will be removed in 1.4. `sparse_output` is ignored unless you leave `sparse` to its default value.\n",
      "  warnings.warn(\n"
     ]
    },
    {
     "name": "stdout",
     "output_type": "stream",
     "text": [
      "0.9904441688897302\n"
     ]
    }
   ],
   "source": [
    "from sklearn.metrics import accuracy_score\n",
    "from sklearn.model_selection import train_test_split\n",
    "from sklearn.preprocessing import LabelEncoder\n",
    "from sklearn.impute import SimpleImputer\n",
    "from sklearn.pipeline import Pipeline\n",
    "from sklearn.compose import ColumnTransformer\n",
    "from catboost import CatBoostClassifier\n",
    "from sklearn.preprocessing import OneHotEncoder\n",
    "\n",
    "\n",
    "# Разделение данных на тренировочные и тестовые\n",
    "X_train, X_valid, y_train, y_valid = train_test_split(X, y, test_size=0.2, random_state=42)\n",
    "\n",
    "# Создание пайплайна для числовых данных\n",
    "numerical_pipeline = Pipeline([\n",
    "    ('imputer', SimpleImputer(strategy='mean'))\n",
    "])\n",
    "\n",
    "# Создание пайплайна для категориальных данных\n",
    "categorical_pipeline = Pipeline([\n",
    "    ('imputer1', SimpleImputer(strategy='most_frequent')),\n",
    "    ('encoding', OneHotEncoder(handle_unknown='ignore', sparse=False))\n",
    "])\n",
    "\n",
    "# Трансформатор данных\n",
    "preprocessor = ColumnTransformer([\n",
    "    ('num', numerical_pipeline, numerical_features),\n",
    "    ('cat', categorical_pipeline, categorical_features)\n",
    "])\n",
    "\n",
    "# Заданные параметры\n",
    "params = {\n",
    "    'iterations': 275,\n",
    "    'depth': 10,\n",
    "    'learning_rate': 0.09855752946871991,\n",
    "    'l2_leaf_reg': 5.8220284047377735\n",
    "}\n",
    "\n",
    "# Определение модели с гиперпараметрами\n",
    "model = CatBoostClassifier(**params, random_state=42, verbose=0)\n",
    "\n",
    "\n",
    "# Пайплайн с препроцессором и моделью\n",
    "model_pipeline = Pipeline([\n",
    "    ('preprocessor', preprocessor),\n",
    "    ('model', model)\n",
    "])\n",
    "\n",
    "# Обучение модели\n",
    "model_pipeline.fit(X_train, y_train)\n",
    "\n",
    "# Оценка качества модели на валидационном наборе данных\n",
    "y_pred = model_pipeline.predict(X_valid)\n",
    "\n",
    "\n",
    "accuracy = accuracy_score(y_valid, y_pred)\n",
    "\n",
    "\n",
    "print(accuracy)"
   ]
  },
  {
   "cell_type": "code",
   "execution_count": 12,
   "id": "a8dfaf22",
   "metadata": {
    "execution": {
     "iopub.execute_input": "2024-12-31T11:15:53.913168Z",
     "iopub.status.busy": "2024-12-31T11:15:53.912727Z",
     "iopub.status.idle": "2024-12-31T11:19:44.483090Z",
     "shell.execute_reply": "2024-12-31T11:19:44.481661Z"
    },
    "papermill": {
     "duration": 230.578503,
     "end_time": "2024-12-31T11:19:44.485467",
     "exception": false,
     "start_time": "2024-12-31T11:15:53.906964",
     "status": "completed"
    },
    "tags": []
   },
   "outputs": [],
   "source": [
    "idx = test['id']\n",
    "\n",
    "test_data = prepare_data(test)\n",
    "\n",
    "y_pred_test = model_pipeline.predict(test_data)\n",
    "\n",
    "submission = pd.DataFrame({\n",
    "    'id' : idx,\n",
    "    'class' : y_pred_test\n",
    "})\n",
    "\n",
    "submission.to_csv('submission.csv', index = False)"
   ]
  },
  {
   "cell_type": "code",
   "execution_count": 13,
   "id": "a60d5e9f",
   "metadata": {
    "execution": {
     "iopub.execute_input": "2024-12-31T11:19:44.497157Z",
     "iopub.status.busy": "2024-12-31T11:19:44.496762Z",
     "iopub.status.idle": "2024-12-31T11:19:44.508257Z",
     "shell.execute_reply": "2024-12-31T11:19:44.507054Z"
    },
    "papermill": {
     "duration": 0.019186,
     "end_time": "2024-12-31T11:19:44.510140",
     "exception": false,
     "start_time": "2024-12-31T11:19:44.490954",
     "status": "completed"
    },
    "tags": []
   },
   "outputs": [
    {
     "data": {
      "text/html": [
       "<div>\n",
       "<style scoped>\n",
       "    .dataframe tbody tr th:only-of-type {\n",
       "        vertical-align: middle;\n",
       "    }\n",
       "\n",
       "    .dataframe tbody tr th {\n",
       "        vertical-align: top;\n",
       "    }\n",
       "\n",
       "    .dataframe thead th {\n",
       "        text-align: right;\n",
       "    }\n",
       "</style>\n",
       "<table border=\"1\" class=\"dataframe\">\n",
       "  <thead>\n",
       "    <tr style=\"text-align: right;\">\n",
       "      <th></th>\n",
       "      <th>id</th>\n",
       "      <th>class</th>\n",
       "    </tr>\n",
       "  </thead>\n",
       "  <tbody>\n",
       "    <tr>\n",
       "      <th>0</th>\n",
       "      <td>3116945</td>\n",
       "      <td>e</td>\n",
       "    </tr>\n",
       "    <tr>\n",
       "      <th>1</th>\n",
       "      <td>3116946</td>\n",
       "      <td>p</td>\n",
       "    </tr>\n",
       "    <tr>\n",
       "      <th>2</th>\n",
       "      <td>3116947</td>\n",
       "      <td>p</td>\n",
       "    </tr>\n",
       "    <tr>\n",
       "      <th>3</th>\n",
       "      <td>3116948</td>\n",
       "      <td>p</td>\n",
       "    </tr>\n",
       "    <tr>\n",
       "      <th>4</th>\n",
       "      <td>3116949</td>\n",
       "      <td>e</td>\n",
       "    </tr>\n",
       "    <tr>\n",
       "      <th>...</th>\n",
       "      <td>...</td>\n",
       "      <td>...</td>\n",
       "    </tr>\n",
       "    <tr>\n",
       "      <th>2077959</th>\n",
       "      <td>5194904</td>\n",
       "      <td>p</td>\n",
       "    </tr>\n",
       "    <tr>\n",
       "      <th>2077960</th>\n",
       "      <td>5194905</td>\n",
       "      <td>p</td>\n",
       "    </tr>\n",
       "    <tr>\n",
       "      <th>2077961</th>\n",
       "      <td>5194906</td>\n",
       "      <td>p</td>\n",
       "    </tr>\n",
       "    <tr>\n",
       "      <th>2077962</th>\n",
       "      <td>5194907</td>\n",
       "      <td>e</td>\n",
       "    </tr>\n",
       "    <tr>\n",
       "      <th>2077963</th>\n",
       "      <td>5194908</td>\n",
       "      <td>e</td>\n",
       "    </tr>\n",
       "  </tbody>\n",
       "</table>\n",
       "<p>2077964 rows × 2 columns</p>\n",
       "</div>"
      ],
      "text/plain": [
       "              id class\n",
       "0        3116945     e\n",
       "1        3116946     p\n",
       "2        3116947     p\n",
       "3        3116948     p\n",
       "4        3116949     e\n",
       "...          ...   ...\n",
       "2077959  5194904     p\n",
       "2077960  5194905     p\n",
       "2077961  5194906     p\n",
       "2077962  5194907     e\n",
       "2077963  5194908     e\n",
       "\n",
       "[2077964 rows x 2 columns]"
      ]
     },
     "execution_count": 13,
     "metadata": {},
     "output_type": "execute_result"
    }
   ],
   "source": [
    "submission"
   ]
  },
  {
   "cell_type": "code",
   "execution_count": 14,
   "id": "2360190f",
   "metadata": {
    "execution": {
     "iopub.execute_input": "2024-12-31T11:19:44.521937Z",
     "iopub.status.busy": "2024-12-31T11:19:44.521564Z",
     "iopub.status.idle": "2024-12-31T11:19:44.529365Z",
     "shell.execute_reply": "2024-12-31T11:19:44.528277Z"
    },
    "papermill": {
     "duration": 0.015579,
     "end_time": "2024-12-31T11:19:44.530974",
     "exception": false,
     "start_time": "2024-12-31T11:19:44.515395",
     "status": "completed"
    },
    "tags": []
   },
   "outputs": [
    {
     "data": {
      "text/plain": [
       "\"\\nimport optuna\\nfrom sklearn.metrics import accuracy_score\\nfrom sklearn.model_selection import train_test_split\\nfrom sklearn.preprocessing import LabelEncoder\\nfrom sklearn.impute import SimpleImputer\\nfrom sklearn.pipeline import Pipeline\\nfrom sklearn.compose import ColumnTransformer\\nfrom catboost import CatBoostClassifier\\nfrom sklearn.preprocessing import OneHotEncoder\\n\\n\\n# Определите вашу функцию для оптимизации гиперпараметров\\ndef objective(trial):\\n    # Разделение данных на тренировочные и тестовые\\n    X_train, X_valid, y_train, y_valid = train_test_split(X, y, test_size=0.2, random_state=42)\\n    \\n    # Создание пайплайна для числовых данных\\n    numerical_pipeline = Pipeline([\\n        ('imputer', SimpleImputer(strategy='mean'))\\n    ])\\n\\n    # Создание пайплайна для категориальных данных\\n    categorical_pipeline = Pipeline([\\n        ('imputer1', SimpleImputer(strategy='most_frequent')),\\n        ('encoding', OneHotEncoder(handle_unknown='ignore', sparse=False))\\n    ])\\n\\n\\n    # Трансформатор данных\\n    preprocessor = ColumnTransformer([\\n        ('num', numerical_pipeline, numerical_features),\\n        ('cat', categorical_pipeline, categorical_features)\\n    ])\\n    \\n    # Определение модели с гиперпараметрами для оптимизации\\n    model = CatBoostClassifier(\\n        iterations=trial.suggest_int('iterations', 100, 500),\\n        depth=trial.suggest_int('depth', 3, 10),\\n        learning_rate=trial.suggest_float('learning_rate', 0.01, 0.1),\\n        l2_leaf_reg=trial.suggest_float('l2_leaf_reg', 1, 10),\\n        random_state=42,\\n        verbose = 0\\n    )\\n\\n    # Пайплайн с препроцессором и моделью\\n    model_pipeline = Pipeline([\\n        ('preprocessor', preprocessor),\\n        ('model', model)\\n    ])\\n    \\n    # Обучение модели\\n    model_pipeline.fit(X_train, y_train)\\n\\n    # Оценка качества модели на валидационном наборе данных\\n    y_pred = model_pipeline.predict(X_valid)\\n    accuracy = accuracy_score(y_valid, y_pred)\\n\\n    return accuracy\\n\\n# Определение гиперпараметров и оптимизация с использованием Optuna\\nstudy = optuna.create_study(direction='maximize')  # maximize для максимизации accuracy\\nstudy.optimize(objective, n_trials=20)\\n\\n# Вывод лучших гиперпараметров\\nprint('Best trial:')\\ntrial = study.best_trial\\nprint(f'  Value: {trial.value}')\\nfor key, value in trial.params.items():\\n    print(f'  {key}: {value}')\\n\""
      ]
     },
     "execution_count": 14,
     "metadata": {},
     "output_type": "execute_result"
    }
   ],
   "source": [
    "'''\n",
    "import optuna\n",
    "from sklearn.metrics import accuracy_score\n",
    "from sklearn.model_selection import train_test_split\n",
    "from sklearn.preprocessing import LabelEncoder\n",
    "from sklearn.impute import SimpleImputer\n",
    "from sklearn.pipeline import Pipeline\n",
    "from sklearn.compose import ColumnTransformer\n",
    "from catboost import CatBoostClassifier\n",
    "from sklearn.preprocessing import OneHotEncoder\n",
    "\n",
    "\n",
    "# Определите вашу функцию для оптимизации гиперпараметров\n",
    "def objective(trial):\n",
    "    # Разделение данных на тренировочные и тестовые\n",
    "    X_train, X_valid, y_train, y_valid = train_test_split(X, y, test_size=0.2, random_state=42)\n",
    "    \n",
    "    # Создание пайплайна для числовых данных\n",
    "    numerical_pipeline = Pipeline([\n",
    "        ('imputer', SimpleImputer(strategy='mean'))\n",
    "    ])\n",
    "\n",
    "    # Создание пайплайна для категориальных данных\n",
    "    categorical_pipeline = Pipeline([\n",
    "        ('imputer1', SimpleImputer(strategy='most_frequent')),\n",
    "        ('encoding', OneHotEncoder(handle_unknown='ignore', sparse=False))\n",
    "    ])\n",
    "\n",
    "\n",
    "    # Трансформатор данных\n",
    "    preprocessor = ColumnTransformer([\n",
    "        ('num', numerical_pipeline, numerical_features),\n",
    "        ('cat', categorical_pipeline, categorical_features)\n",
    "    ])\n",
    "    \n",
    "    # Определение модели с гиперпараметрами для оптимизации\n",
    "    model = CatBoostClassifier(\n",
    "        iterations=trial.suggest_int('iterations', 100, 500),\n",
    "        depth=trial.suggest_int('depth', 3, 10),\n",
    "        learning_rate=trial.suggest_float('learning_rate', 0.01, 0.1),\n",
    "        l2_leaf_reg=trial.suggest_float('l2_leaf_reg', 1, 10),\n",
    "        random_state=42,\n",
    "        verbose = 0\n",
    "    )\n",
    "\n",
    "    # Пайплайн с препроцессором и моделью\n",
    "    model_pipeline = Pipeline([\n",
    "        ('preprocessor', preprocessor),\n",
    "        ('model', model)\n",
    "    ])\n",
    "    \n",
    "    # Обучение модели\n",
    "    model_pipeline.fit(X_train, y_train)\n",
    "\n",
    "    # Оценка качества модели на валидационном наборе данных\n",
    "    y_pred = model_pipeline.predict(X_valid)\n",
    "    accuracy = accuracy_score(y_valid, y_pred)\n",
    "\n",
    "    return accuracy\n",
    "\n",
    "# Определение гиперпараметров и оптимизация с использованием Optuna\n",
    "study = optuna.create_study(direction='maximize')  # maximize для максимизации accuracy\n",
    "study.optimize(objective, n_trials=20)\n",
    "\n",
    "# Вывод лучших гиперпараметров\n",
    "print('Best trial:')\n",
    "trial = study.best_trial\n",
    "print(f'  Value: {trial.value}')\n",
    "for key, value in trial.params.items():\n",
    "    print(f'  {key}: {value}')\n",
    "'''"
   ]
  }
 ],
 "metadata": {
  "kaggle": {
   "accelerator": "none",
   "dataSources": [
    {
     "databundleVersionId": 9045607,
     "sourceId": 76727,
     "sourceType": "competition"
    }
   ],
   "dockerImageVersionId": 30822,
   "isGpuEnabled": false,
   "isInternetEnabled": false,
   "language": "python",
   "sourceType": "notebook"
  },
  "kernelspec": {
   "display_name": "Python 3",
   "language": "python",
   "name": "python3"
  },
  "language_info": {
   "codemirror_mode": {
    "name": "ipython",
    "version": 3
   },
   "file_extension": ".py",
   "mimetype": "text/x-python",
   "name": "python",
   "nbconvert_exporter": "python",
   "pygments_lexer": "ipython3",
   "version": "3.10.12"
  },
  "papermill": {
   "default_parameters": {},
   "duration": 787.032119,
   "end_time": "2024-12-31T11:19:46.563529",
   "environment_variables": {},
   "exception": null,
   "input_path": "__notebook__.ipynb",
   "output_path": "__notebook__.ipynb",
   "parameters": {},
   "start_time": "2024-12-31T11:06:39.531410",
   "version": "2.6.0"
  }
 },
 "nbformat": 4,
 "nbformat_minor": 5
}
